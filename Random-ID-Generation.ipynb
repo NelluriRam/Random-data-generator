{
 "cells": [
  {
   "cell_type": "code",
   "execution_count": 11,
   "metadata": {},
   "outputs": [
    {
     "name": "stdout",
     "output_type": "stream",
     "text": [
      "3448KATNENI KRISHNA VAMSI\n",
      "4519MOLAKAMUDI LAHARI\n",
      "3442RAMA VENKATA PADMA CHARAN\n",
      "2779MADINENI PRIYANKA\n",
      "2779MADINENI PRIYANKA\n",
      "1977PEDDI ROHITH MANIKANTA\n",
      "4254NELLURI RAMSAI NELLURI\n",
      "1977PEDDI ROHITH MANIKANTA\n",
      "4519MOLAKAMUDI LAHARI\n"
     ]
    }
   ],
   "source": [
    "from secrets import choice\n",
    "from tkinter import *\n",
    "import tkinter.font as font\n",
    "import pandas as pd\n",
    "root = Tk()\n",
    "root.geometry(\"1980x1080\")\n",
    "root.title(\"Guruvedic 2020\")\n",
    "root.grid()\n",
    "myfont = font.Font(size=100)\n",
    "myfont1 = font.Font(size=100)\n",
    "myfont2 = font.Font(size=20)\n",
    "myfont3 = font.Font(size=40)\n",
    "\n",
    "myfont4 = font.Font(size=50)\n",
    "def randnum(event):\n",
    "  import random\n",
    "  data = pd.read_csv('Book.csv')\n",
    "  df = pd.DataFrame(data)\n",
    "  arr = df['EMP ID NAME'].tolist()\n",
    "  value =choice(arr)\n",
    "  print(value)\n",
    "  updateDisplay(value)\n",
    "\n",
    "def updateDisplay(myString):\n",
    "  displayVariable.set(myString)\n",
    "\n",
    "b=root.config(bg='lightgreen')\n",
    "displayLabel0 = Label(root, text= \"GURUVEDIC DAY 2020\",bg='lightgreen',font=myfont1)\n",
    "space1 = Label(root,bg='lightgreen',font=myfont2)\n",
    "space2 = Label(root,bg='lightgreen',font=myfont3)\n",
    "button_1 = Button(root, text=\"Click Me to give employee Id\",bg='red',font=250)\n",
    "displayVariable = StringVar()\n",
    "displayLabel = Label(root, textvariable = displayVariable,bg='lightgreen',font=myfont4)\n",
    "icon = PhotoImage(file = \"focus.png\")\n",
    "imgLabel = Label(root, image = icon)\n",
    "button_1.bind(\"<Button-1>\",randnum)\n",
    "imgLabel.pack()\n",
    "space1.pack()\n",
    "displayLabel0.pack()\n",
    "space2.pack()\n",
    "displayLabel.pack()\n",
    "button_1.pack()\n",
    "\n",
    "root.mainloop()\n"
   ]
  },
  {
   "cell_type": "code",
   "execution_count": null,
   "metadata": {},
   "outputs": [],
   "source": []
  }
 ],
 "metadata": {
  "kernelspec": {
   "display_name": "Python 3",
   "language": "python",
   "name": "python3"
  },
  "language_info": {
   "codemirror_mode": {
    "name": "ipython",
    "version": 3
   },
   "file_extension": ".py",
   "mimetype": "text/x-python",
   "name": "python",
   "nbconvert_exporter": "python",
   "pygments_lexer": "ipython3",
   "version": "3.7.4"
  }
 },
 "nbformat": 4,
 "nbformat_minor": 2
}
